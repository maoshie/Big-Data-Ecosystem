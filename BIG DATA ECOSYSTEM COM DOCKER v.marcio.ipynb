{
 "cells": [
  {
   "cell_type": "markdown",
   "metadata": {},
   "source": [
    "BIG DATA ECOSYSTEM COM DOCKER\n",
    "\n",
    "Ambiente para estudo dos principais frameworks big data em docker.\n",
    "Esse setup vai criar dockers com os frameworks HDFS, HBase, Hive, Presto, Spark, Jupyter, Hue, Mongodb, Metabase, Nifi, kafka, Mysql e Zookeeper.\n",
    "SETUP"
   ]
  },
  {
   "cell_type": "markdown",
   "metadata": {},
   "source": [
    "OBS: Esse passo deve ser realizado apena uma vez. Após o ambiente criado, utilizar o docker-compose para iniciar os containers como mostrado no tópico INICIANDO O AMBIENTE\n",
    "Criação do diretório docker:\n",
    "\n",
    "OBS: A criação do diretório é importante para os mapeamentos necessários\n",
    "\n",
    "    No Linux:\n",
    "        Criar o diretório na home do usuário ex: /home/user/docker\n"
   ]
  },
  {
   "cell_type": "markdown",
   "metadata": {},
   "source": [
    "Em um terminal/DOS, dentro diretório docker, realizar o clone do projeto no github"
   ]
  },
  {
   "cell_type": "markdown",
   "metadata": {},
   "source": [
    " git clone https://github.com/rodrigo-reboucas/docker-bigdata.git"
   ]
  },
  {
   "cell_type": "markdown",
   "metadata": {},
   "source": [
    "# INICIANDO O AMBIENTE\n",
    "No terminal, no diretorio bigdata_docker, executar o docker-compose\n",
    "\n",
    "      docker-compose up -d        \n",
    "\n",
    "Verificar imagens\n",
    "\n",
    "      docker image ls\n",
    "\n",
    "Verificar containers\n",
    "\n",
    "      docker container ls\n"
   ]
  },
  {
   "cell_type": "markdown",
   "metadata": {},
   "source": [
    "# SOLUCIONANDO PROBLEMAS\n",
    "Parar um containers\n",
    "\n",
    "     docker stop [nome do container]      \n",
    "\n",
    "Parar todos containers\n",
    "\n",
    "     docker stop $(docker ps -a -q)\n",
    "\n",
    "Remover um container\n",
    "\n",
    "     docker rm [nome do container]\n",
    "\n",
    "Remover todos containers\n",
    "\n",
    "     docker rm $(docker ps -a -q)         \n",
    "\n",
    "Dados do containers\n",
    "\n",
    "     docker container inspect [nome do container]\n",
    "\n",
    "Iniciar um container\n",
    "\n",
    "     docker-compose up -d [nome do container]\n",
    "\n",
    "Iniciar todos os containers\n",
    "\n",
    "     docker-compose up -d \n",
    "\n",
    "Acessar log do container\n",
    "\n",
    "     docker container logs [nome do container] \n"
   ]
  },
  {
   "cell_type": "markdown",
   "metadata": {},
   "source": [
    "# Acesso WebUI dos Frameworks\n",
    "\n",
    "    HDFS http://localhost:50070\n",
    "    Presto http://localhost:8080\n",
    "    Hbase http://localhost:16010/master-status\n",
    "    Mongo Express http://localhost:8081\n",
    "    Kafka Manager http://localhost:9000\n",
    "    Metabase http://localhost:3000\n",
    "    Nifi http://localhost:9090\n",
    "    Jupyter Spark http://localhost:8889\n",
    "    Hue http://localhost:8888\n",
    "    Spark http://localhost:4040\n"
   ]
  },
  {
   "cell_type": "markdown",
   "metadata": {},
   "source": [
    "# Acesso por shell\n",
    "HDFS\n",
    "\n",
    "      docker exec -it datanode bash\n",
    "\n",
    "HBase\n",
    "\n",
    "      docker exec -it hbase-master bash\n",
    "\n",
    "Sqoop\n",
    "\n",
    "      docker exec -it datanode bash\n",
    "\n",
    "Kafka\n",
    "\n",
    "      docker exec -it kafka bash\n"
   ]
  },
  {
   "cell_type": "markdown",
   "metadata": {},
   "source": [
    "# Acesso JDBC\n",
    "MySQL\n",
    "\n",
    "      jdbc:mysql://database/employees\n",
    "\n",
    "Hive\n",
    "\n",
    "      jdbc:hive2://hive-server:10000/default\n",
    "\n",
    "Presto\n",
    "\n",
    "      jdbc:presto://presto:8080/hive/default\n"
   ]
  },
  {
   "cell_type": "markdown",
   "metadata": {},
   "source": [
    "# Usuários e senhas\n",
    "\n",
    "Hue\n",
    "\n",
    "Usuário: admin\n",
    "Senha: admin\n",
    "\n",
    "Metabase\n",
    "\n",
    "Usuário: bigdata@class.com\n",
    "Senha: bigdata123 \n",
    "\n",
    "MySQL\n",
    "\n",
    "Usuário: root\n",
    "Senha: secret\n",
    "\n",
    "MongoDB\n",
    "\n",
    "Usuário: root\n",
    "Senha: root\n",
    "Authentication Database: admin\n"
   ]
  },
  {
   "cell_type": "markdown",
   "metadata": {},
   "source": [
    "Este repositório é um fork do Rodrigo-reboucas"
   ]
  },
  {
   "cell_type": "code",
   "execution_count": null,
   "metadata": {},
   "outputs": [],
   "source": []
  }
 ],
 "metadata": {
  "kernelspec": {
   "display_name": "Python 3",
   "language": "python",
   "name": "python3"
  },
  "language_info": {
   "codemirror_mode": {
    "name": "ipython",
    "version": 3
   },
   "file_extension": ".py",
   "mimetype": "text/x-python",
   "name": "python",
   "nbconvert_exporter": "python",
   "pygments_lexer": "ipython3",
   "version": "3.8.5"
  }
 },
 "nbformat": 4,
 "nbformat_minor": 4
}
